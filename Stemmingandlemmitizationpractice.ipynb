{
  "nbformat": 4,
  "nbformat_minor": 0,
  "metadata": {
    "colab": {
      "provenance": [],
      "authorship_tag": "ABX9TyMBm/Oj51dDL22+wuWSbG6S",
      "include_colab_link": true
    },
    "kernelspec": {
      "name": "python3",
      "display_name": "Python 3"
    },
    "language_info": {
      "name": "python"
    }
  },
  "cells": [
    {
      "cell_type": "markdown",
      "metadata": {
        "id": "view-in-github",
        "colab_type": "text"
      },
      "source": [
        "<a href=\"https://colab.research.google.com/github/Mngambi/dsc-nlp-and-word-vectorization/blob/master/Stemmingandlemmitizationpractice.ipynb\" target=\"_parent\"><img src=\"https://colab.research.google.com/assets/colab-badge.svg\" alt=\"Open In Colab\"/></a>"
      ]
    },
    {
      "cell_type": "code",
      "source": [
        "import pandas as pd\n",
        "import numpy as np\n",
        "import matplotlib.pyplot as plt\n",
        "import seaborn as sns"
      ],
      "metadata": {
        "id": "Etz7ZOCHKt3n"
      },
      "execution_count": null,
      "outputs": []
    },
    {
      "cell_type": "code",
      "execution_count": 2,
      "metadata": {
        "id": "CGKF0LrJFR1U"
      },
      "outputs": [],
      "source": [
        "import nltk\n",
        "import spacy"
      ]
    },
    {
      "cell_type": "code",
      "source": [
        "from nltk.stem import PorterStemmer\n",
        "\n",
        "stemmer = PorterStemmer()"
      ],
      "metadata": {
        "id": "w3tXHukkFvd7"
      },
      "execution_count": 4,
      "outputs": []
    },
    {
      "cell_type": "code",
      "source": [
        "words = ['run', 'running', 'ran', 'runs', 'easily', 'fairly', 'adjustable', 'ability']\n",
        "\n",
        "for word in words:\n",
        "  print(word, \"/\", stemmer.stem(word))"
      ],
      "metadata": {
        "colab": {
          "base_uri": "https://localhost:8080/"
        },
        "id": "6UZiB5yRG4Mc",
        "outputId": "a92b4900-7012-4d70-e812-6470128c787b"
      },
      "execution_count": 5,
      "outputs": [
        {
          "output_type": "stream",
          "name": "stdout",
          "text": [
            "run / run\n",
            "running / run\n",
            "ran / ran\n",
            "runs / run\n",
            "easily / easili\n",
            "fairly / fairli\n",
            "adjustable / adjust\n",
            "ability / abil\n"
          ]
        }
      ]
    },
    {
      "cell_type": "code",
      "source": [
        "nlp = spacy.load('en_core_web_sm')\n",
        "\n",
        "doc1 = nlp(u'Tesla is looking at buying U.S. startup for $6 million')\n",
        "doc2 = nlp(u'run running ran runs easily fairly')\n",
        "\n",
        "for token in doc1:\n",
        "  print(token, \"/\", token.lemma_, \"/\", token.lemma)\n",
        "print(\"**********************************************************************\")\n",
        "for token in doc2:\n",
        "    print(token, \"/\", token.lemma_, \"/\", token.lemma)"
      ],
      "metadata": {
        "colab": {
          "base_uri": "https://localhost:8080/"
        },
        "id": "taulEfYUHwYM",
        "outputId": "eab8cb3a-1ae1-460a-d11e-b840c44649f8"
      },
      "execution_count": 13,
      "outputs": [
        {
          "output_type": "stream",
          "name": "stdout",
          "text": [
            "Tesla / Tesla / 989884730879938440\n",
            "is / be / 10382539506755952630\n",
            "looking / look / 16096726548953279178\n",
            "at / at / 11667289587015813222\n",
            "buying / buy / 9457496526477982497\n",
            "U.S. / U.S. / 16611556673110956997\n",
            "startup / startup / 7622488711881293715\n",
            "for / for / 16037325823156266367\n",
            "$ / $ / 11283501755624150392\n",
            "6 / 6 / 10999827425508017904\n",
            "million / million / 17365054503653917826\n",
            "**********************************************************************\n",
            "run / run / 12767647472892411841\n",
            "running / running / 12212083579121184944\n",
            "ran / run / 12767647472892411841\n",
            "runs / run / 12767647472892411841\n",
            "easily / easily / 8007658219579238015\n",
            "fairly / fairly / 17576046047103189829\n"
          ]
        }
      ]
    },
    {
      "cell_type": "code",
      "source": [
        "nlp.pipe_names"
      ],
      "metadata": {
        "colab": {
          "base_uri": "https://localhost:8080/"
        },
        "id": "wDwo_5K9ICWk",
        "outputId": "5552abd8-fd5d-4be3-c052-b56d0a4de727"
      },
      "execution_count": 15,
      "outputs": [
        {
          "output_type": "execute_result",
          "data": {
            "text/plain": [
              "['tok2vec', 'tagger', 'parser', 'attribute_ruler', 'lemmatizer', 'ner']"
            ]
          },
          "metadata": {},
          "execution_count": 15
        }
      ]
    },
    {
      "cell_type": "code",
      "source": [
        "ar = nlp.get_pipe('attribute_ruler')\n",
        "ar.add([], {})"
      ],
      "metadata": {
        "id": "gCQYf3nRJ170"
      },
      "execution_count": null,
      "outputs": []
    }
  ]
}